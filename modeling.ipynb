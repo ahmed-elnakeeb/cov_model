{
 "cells": [
  {
   "cell_type": "code",
   "execution_count": 1,
   "metadata": {},
   "outputs": [],
   "source": [
    "import pickle\n",
    "pickle_in = open(\"x_train.pickle\",\"rb\")\n",
    "x_train = pickle.load(pickle_in)\n",
    "\n",
    "pickle_in = open(\"x_test.pickle\",\"rb\")\n",
    "x_test = pickle.load(pickle_in)\n",
    "\n",
    "pickle_in = open(\"y_train.pickle\",\"rb\")\n",
    "y_train = pickle.load(pickle_in)\n",
    "\n",
    "pickle_in = open(\"y_test.pickle\",\"rb\")\n",
    "y_test = pickle.load(pickle_in)"
   ]
  },
  {
   "cell_type": "code",
   "execution_count": 2,
   "metadata": {},
   "outputs": [],
   "source": [
    "import tensorflow as tf\n"
   ]
  },
  {
   "cell_type": "code",
   "execution_count": 3,
   "metadata": {},
   "outputs": [],
   "source": [
    "# x_train, x_test = x_train / 255.0, x_test / 255.0\n"
   ]
  },
  {
   "cell_type": "code",
   "execution_count": 8,
   "metadata": {},
   "outputs": [],
   "source": [
    "model = tf.keras.Sequential([\n",
    "  tf.keras.layers.Rescaling(1./255),\n",
    "  tf.keras.layers.Conv2D(32, 3, activation='relu'),\n",
    "  tf.keras.layers.MaxPooling2D(),\n",
    "  tf.keras.layers.Conv2D(32, 3, activation='relu'),\n",
    "  tf.keras.layers.MaxPooling2D(),\n",
    "  tf.keras.layers.Conv2D(32, 3, activation='relu'),\n",
    "  tf.keras.layers.MaxPooling2D(),\n",
    "  tf.keras.layers.Flatten(),\n",
    "  tf.keras.layers.Dense(128, activation='relu'),\n",
    "  tf.keras.layers.Dense(2)\n",
    "])"
   ]
  },
  {
   "cell_type": "code",
   "execution_count": 9,
   "metadata": {},
   "outputs": [],
   "source": [
    "model.compile(\n",
    "  optimizer='adam',\n",
    "  loss=tf.losses.SparseCategoricalCrossentropy(from_logits=True),\n",
    "  metrics=['accuracy'])"
   ]
  },
  {
   "cell_type": "code",
   "execution_count": 12,
   "metadata": {},
   "outputs": [
    {
     "name": "stdout",
     "output_type": "stream",
     "text": [
      "Epoch 1/3\n",
      "103/103 [==============================] - 34161s 335s/step - loss: 0.1201 - accuracy: 0.9499 - val_loss: 0.2586 - val_accuracy: 0.8913\n",
      "Epoch 2/3\n",
      "103/103 [==============================] - 95s 924ms/step - loss: 0.0652 - accuracy: 0.9768 - val_loss: 0.1863 - val_accuracy: 0.9457\n",
      "Epoch 3/3\n",
      "103/103 [==============================] - 89s 867ms/step - loss: 0.0554 - accuracy: 0.9792 - val_loss: 0.2841 - val_accuracy: 0.9022\n"
     ]
    },
    {
     "data": {
      "text/plain": [
       "<keras.callbacks.History at 0x27702c14d90>"
      ]
     },
     "execution_count": 12,
     "metadata": {},
     "output_type": "execute_result"
    }
   ],
   "source": [
    "import numpy\n",
    "model.fit(\n",
    "  numpy.array( x_train), numpy.array( y_train),\n",
    "  epochs=3,batch_size=16,\n",
    "  validation_data=(numpy.array( x_test), numpy.array( y_test)),\n",
    ")"
   ]
  },
  {
   "cell_type": "code",
   "execution_count": 7,
   "metadata": {},
   "outputs": [
    {
     "name": "stdout",
     "output_type": "stream",
     "text": [
      "[ 3.175687  -3.5030107]\n",
      "0\n"
     ]
    }
   ],
   "source": [
    "from keras import metrics\n",
    "y_pred= model.predict(x_test)\n",
    "matrix = metrics.categorical_accuracy(y_test, y_pred)\n",
    "print(y_pred[0])\n",
    "print(y_test[0])\n",
    "# model.pred"
   ]
  },
  {
   "cell_type": "code",
   "execution_count": 14,
   "metadata": {},
   "outputs": [
    {
     "name": "stdout",
     "output_type": "stream",
     "text": [
      "INFO:tensorflow:Assets written to: my_model\\assets\n"
     ]
    }
   ],
   "source": [
    "# Build the model by calling it\n",
    "input_arr = tf.random.uniform((1,300,300,1))\n",
    "outputs = model(input_arr)\n",
    "model.save(\"my_model.h5\")\n",
    "model.save(\"my_model\")"
   ]
  },
  {
   "cell_type": "code",
   "execution_count": 13,
   "metadata": {},
   "outputs": [
    {
     "name": "stdout",
     "output_type": "stream",
     "text": [
      "[[ 6.2317963 -3.9771545]\n",
      " [-3.981896   5.6317844]\n",
      " [ 8.493111  -5.8108106]\n",
      " [ 8.40523   -5.4218144]\n",
      " [-1.0881032  3.1900265]\n",
      " [ 4.2381573 -3.245403 ]\n",
      " [-1.4363191  3.2148616]\n",
      " [10.690468  -6.2585607]\n",
      " [-3.221094   4.668535 ]\n",
      " [ 8.668015  -5.561151 ]]\n",
      "[0, 1, 0, 0, 1, 0, 1, 0, 1, 0]\n"
     ]
    }
   ],
   "source": [
    "print(model.predict(numpy.array(x_test[0:10])))\n",
    "print(y_test[0:10])"
   ]
  },
  {
   "cell_type": "code",
   "execution_count": null,
   "metadata": {},
   "outputs": [],
   "source": []
  }
 ],
 "metadata": {
  "interpreter": {
   "hash": "07bd1c894e5f7b751a872710a531ec9c3ec6e2d62db8c44368c54c177e5cf92e"
  },
  "kernelspec": {
   "display_name": "Python 3.10.2 64-bit",
   "language": "python",
   "name": "python3"
  },
  "language_info": {
   "codemirror_mode": {
    "name": "ipython",
    "version": 3
   },
   "file_extension": ".py",
   "mimetype": "text/x-python",
   "name": "python",
   "nbconvert_exporter": "python",
   "pygments_lexer": "ipython3",
   "version": "3.10.2"
  },
  "orig_nbformat": 4
 },
 "nbformat": 4,
 "nbformat_minor": 2
}
